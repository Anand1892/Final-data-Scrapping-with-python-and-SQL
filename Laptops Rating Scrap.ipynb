{
 "cells": [
  {
   "cell_type": "code",
   "execution_count": 1,
   "metadata": {},
   "outputs": [],
   "source": [
    "# Importing Libraries\n",
    "\n",
    "import pandas as pd\n",
    "from bs4 import BeautifulSoup\n",
    "import requests \n",
    "import csv\n",
    "from requests import get\n",
    "from time import sleep\n",
    "from random import randint"
   ]
  },
  {
   "cell_type": "code",
   "execution_count": 13,
   "metadata": {},
   "outputs": [],
   "source": [
    "laptops = []  # List to save name of product\n",
    "prices= []    # List to save price of product\n",
    "ratings= []\n",
    "\n",
    "\n",
    "for i in range(31):\n",
    "    url= \"https://www.flipkart.com/search?q=laptop&otracker=search&otracker1=search&marketplace=FLIPKART&as-show=on&as=off&page={}\".format(i)\n",
    "    req=requests.get(url)\n",
    "    content=BeautifulSoup(req.content, \"html.parser\")\n",
    "    laptop_name=content.findAll(\"div\",{\"class\":\"_4rR01T\"})\n",
    "    price=content.findAll(\"div\",{\"class\":\"_30jeq3 _1_WHN1\"})\n",
    "    rating=content.findAll(\"div\",{\"class\":\"_3LWZlK\"})\n",
    "    \n",
    "    for i in laptop_name:\n",
    "        laptops.append(i.text)\n",
    "    for i in price:\n",
    "        prices.append(i.text)\n",
    "    for i in rating:\n",
    "        ratings.append(i.text)\n",
    "        \n"
   ]
  },
  {
   "cell_type": "code",
   "execution_count": 14,
   "metadata": {},
   "outputs": [],
   "source": [
    "data ={'LaptopName':laptops,'Price':prices,'Rating':ratings}\n",
    "df = pd.DataFrame.from_dict(data, orient='index')"
   ]
  },
  {
   "cell_type": "code",
   "execution_count": 15,
   "metadata": {},
   "outputs": [
    {
     "name": "stdout",
     "output_type": "stream",
     "text": [
      "                                                         0     \\\n",
      "LaptopName  Lenovo Lenovo V Athlon Dual Core 3050U - (4 GB...   \n",
      "Price                                                 ₹26,990   \n",
      "Rating                                                    3.9   \n",
      "\n",
      "                                                         1     \\\n",
      "LaptopName  ASUS TUF Gaming F15 Core i5 10th Gen - (8 GB/5...   \n",
      "Price                                                 ₹61,990   \n",
      "Rating                                                    4.5   \n",
      "\n",
      "                                                         2     \\\n",
      "LaptopName  HP 15s Core i3 10th Gen - (8 GB/1 TB HDD/256 G...   \n",
      "Price                                                 ₹44,490   \n",
      "Rating                                                    4.3   \n",
      "\n",
      "                                                         3     \\\n",
      "LaptopName  Lenovo Ideapad Slim 5i Core i5 11th Gen - (8 G...   \n",
      "Price                                                 ₹63,990   \n",
      "Rating                                                    4.3   \n",
      "\n",
      "                                                         4     \\\n",
      "LaptopName  ASUS VivoBook Ultra 14 Core i3 10th Gen - (4 G...   \n",
      "Price                                                 ₹38,990   \n",
      "Rating                                                    4.4   \n",
      "\n",
      "                                                         5     \\\n",
      "LaptopName  DELL Vostro Core i3 10th Gen - (4 GB/256 GB SS...   \n",
      "Price                                                 ₹36,490   \n",
      "Rating                                                    4.4   \n",
      "\n",
      "                                                         6     \\\n",
      "LaptopName  HP Core i3 11th Gen - (8 GB/256 GB SSD/Windows...   \n",
      "Price                                                 ₹41,490   \n",
      "Rating                                                    4.3   \n",
      "\n",
      "                                                         7     \\\n",
      "LaptopName  acer Aspire 7 Core i5 10th Gen - (8 GB/512 GB ...   \n",
      "Price                                                 ₹59,990   \n",
      "Rating                                                    4.5   \n",
      "\n",
      "                                                         8     \\\n",
      "LaptopName  ASUS TUF Gaming A17 Ryzen 5 Hexa Core 4600H - ...   \n",
      "Price                                                 ₹62,990   \n",
      "Rating                                                    4.2   \n",
      "\n",
      "                                                         9     ...  992   \\\n",
      "LaptopName  HP 15s Ryzen 3 Dual Core 3250U - (8 GB/1 TB HD...  ...  None   \n",
      "Price                                                 ₹37,490  ...  None   \n",
      "Rating                                                    4.3  ...     5   \n",
      "\n",
      "            993   994   995   996   997   998   999   1000  1001  \n",
      "LaptopName  None  None  None  None  None  None  None  None  None  \n",
      "Price       None  None  None  None  None  None  None  None  None  \n",
      "Rating       4.3     5     5   3.9     5     5   4.2     5     5  \n",
      "\n",
      "[3 rows x 1002 columns]\n"
     ]
    }
   ],
   "source": [
    "print(df)"
   ]
  },
  {
   "cell_type": "code",
   "execution_count": 18,
   "metadata": {},
   "outputs": [],
   "source": [
    "df=df.T"
   ]
  },
  {
   "cell_type": "code",
   "execution_count": 19,
   "metadata": {},
   "outputs": [],
   "source": [
    "df.to_csv(\"Laptopps Details.csv\")"
   ]
  },
  {
   "cell_type": "code",
   "execution_count": null,
   "metadata": {},
   "outputs": [],
   "source": []
  }
 ],
 "metadata": {
  "kernelspec": {
   "display_name": "Python 3",
   "language": "python",
   "name": "python3"
  },
  "language_info": {
   "codemirror_mode": {
    "name": "ipython",
    "version": 3
   },
   "file_extension": ".py",
   "mimetype": "text/x-python",
   "name": "python",
   "nbconvert_exporter": "python",
   "pygments_lexer": "ipython3",
   "version": "3.8.5"
  }
 },
 "nbformat": 4,
 "nbformat_minor": 4
}
